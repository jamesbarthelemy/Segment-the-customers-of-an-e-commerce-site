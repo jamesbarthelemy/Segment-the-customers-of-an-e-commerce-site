{
 "cells": [
  {
   "cell_type": "code",
   "execution_count": 1,
   "id": "d5bb9c4f",
   "metadata": {},
   "outputs": [
    {
     "name": "stderr",
     "output_type": "stream",
     "text": [
      "Intel(R) Extension for Scikit-learn* enabled (https://github.com/intel/scikit-learn-intelex)\n"
     ]
    }
   ],
   "source": [
    "from sklearnex import patch_sklearn\n",
    "patch_sklearn()"
   ]
  },
  {
   "cell_type": "code",
   "execution_count": 2,
   "id": "3ccd2125",
   "metadata": {},
   "outputs": [],
   "source": [
    "from numpy import arange\n",
    "from datetime import timedelta\n",
    "from dateutil import parser\n",
    "from pandasql import sqldf\n",
    "from sklearn import metrics\n",
    "from sklearn.cluster import KMeans\n",
    "from sklearn.preprocessing import Normalizer\n",
    "import matplotlib.pyplot as plt\n",
    "import numpy as np\n",
    "import warnings\n",
    "import pandas as pd\n",
    "\n",
    "# Allow to display all dataframes columns\n",
    "pd.set_option(\"display.max_columns\", None)\n",
    "\n",
    "# Inactivate warnings\n",
    "warnings.filterwarnings('ignore')"
   ]
  },
  {
   "cell_type": "markdown",
   "id": "b718d35a",
   "metadata": {},
   "source": [
    "# Creation of files for the study of temporal stability"
   ]
  },
  {
   "cell_type": "markdown",
   "id": "dde344ca",
   "metadata": {},
   "source": [
    "## Loading revised data"
   ]
  },
  {
   "cell_type": "code",
   "execution_count": 3,
   "id": "5182801e",
   "metadata": {},
   "outputs": [
    {
     "name": "stdout",
     "output_type": "stream",
     "text": [
      "(114851, 45)\n"
     ]
    }
   ],
   "source": [
    "orders = pd.read_csv('olist_orders_reviewed.csv', sep=',', decimal='.',\n",
    "                     encoding='utf8', low_memory=False)\n",
    "print(orders.shape)"
   ]
  },
  {
   "cell_type": "markdown",
   "id": "951f46bb",
   "metadata": {},
   "source": [
    "## Feature engineering"
   ]
  },
  {
   "cell_type": "raw",
   "id": "3f43921f",
   "metadata": {},
   "source": [
    "Formatting the order_purchase_timestamp, order_delivered_customer_date, order_estimated_delivery_date, review_creation_date, and review_answer_timestamp columns."
   ]
  },
  {
   "cell_type": "code",
   "execution_count": 4,
   "id": "6a8c1d3f",
   "metadata": {},
   "outputs": [],
   "source": [
    "orders['order_purchase_timestamp'] = pd.to_datetime(\n",
    "    orders.order_purchase_timestamp)\n",
    "orders['order_purchase_timestamp'] = orders['order_purchase_timestamp'].dt.strftime(\n",
    "    '%Y-%m-%d')\n",
    "\n",
    "orders['order_delivered_customer_date'] = pd.to_datetime(\n",
    "    orders.order_delivered_customer_date)\n",
    "orders['order_delivered_customer_date'] = orders['order_delivered_customer_date'].dt.strftime(\n",
    "    '%Y-%m-%d')\n",
    "\n",
    "orders['order_estimated_delivery_date'] = pd.to_datetime(\n",
    "    orders.order_estimated_delivery_date)\n",
    "orders['order_estimated_delivery_date'] = orders['order_estimated_delivery_date'].dt.strftime(\n",
    "    '%Y-%m-%d')\n",
    "\n",
    "orders['review_creation_date'] = pd.to_datetime(orders.review_creation_date)\n",
    "orders['review_creation_date'] = orders['review_creation_date'].dt.strftime(\n",
    "    '%Y-%m-%d')\n",
    "\n",
    "orders['review_answer_timestamp'] = pd.to_datetime(\n",
    "    orders.review_answer_timestamp)\n",
    "orders['review_answer_timestamp'] = orders['review_answer_timestamp'].dt.strftime(\n",
    "    '%Y-%m-%d')"
   ]
  },
  {
   "cell_type": "code",
   "execution_count": 5,
   "id": "962d12fd",
   "metadata": {},
   "outputs": [
    {
     "data": {
      "text/plain": [
       "datetime.datetime(2018, 8, 29, 0, 0)"
      ]
     },
     "execution_count": 5,
     "metadata": {},
     "output_type": "execute_result"
    }
   ],
   "source": [
    "max_command_date = parser.parse(orders['order_purchase_timestamp'].max())\n",
    "max_command_date"
   ]
  },
  {
   "cell_type": "code",
   "execution_count": 6,
   "id": "b22ee737",
   "metadata": {},
   "outputs": [],
   "source": [
    "def last_order_since(df):\n",
    "    last_command_date = parser.parse(df['order_purchase_timestamp'])\n",
    "    return (max_command_date-last_command_date).days"
   ]
  },
  {
   "cell_type": "code",
   "execution_count": 7,
   "id": "45ebfd4f",
   "metadata": {},
   "outputs": [],
   "source": [
    "def delivery_delay(df):\n",
    "    dd = parser.parse(df['order_delivered_customer_date'])\n",
    "    edd = parser.parse(df['order_estimated_delivery_date'])\n",
    "    return (dd-edd).days"
   ]
  },
  {
   "cell_type": "code",
   "execution_count": 8,
   "id": "e6023a40",
   "metadata": {},
   "outputs": [],
   "source": [
    "orders.review_comment_message = orders.review_comment_message.fillna('')"
   ]
  },
  {
   "cell_type": "code",
   "execution_count": 9,
   "id": "ceed6051",
   "metadata": {},
   "outputs": [],
   "source": [
    "def count_review_char(df):\n",
    "    return len(df['review_comment_message'])"
   ]
  },
  {
   "cell_type": "code",
   "execution_count": 10,
   "id": "79ebc30b",
   "metadata": {},
   "outputs": [],
   "source": [
    "def review_answer_delay(df):\n",
    "    rcd = parser.parse(df['review_creation_date'])\n",
    "    rad = parser.parse(df['review_answer_timestamp'])\n",
    "    return (rad-rcd).days"
   ]
  },
  {
   "cell_type": "code",
   "execution_count": 11,
   "id": "f59982f0",
   "metadata": {},
   "outputs": [],
   "source": [
    "orders.product_name_lenght = orders.product_name_lenght.fillna(0)\n",
    "orders.product_description_lenght = orders.product_description_lenght.fillna(0)\n",
    "orders.product_photos_qty = orders.product_photos_qty.fillna(0)"
   ]
  },
  {
   "cell_type": "code",
   "execution_count": 12,
   "id": "dc31c364",
   "metadata": {},
   "outputs": [],
   "source": [
    "def desc_detail(df):\n",
    "    return (df['product_name_lenght'] + df['product_description_lenght'])"
   ]
  },
  {
   "cell_type": "markdown",
   "id": "562e88c7",
   "metadata": {},
   "source": [
    "## GroupBy"
   ]
  },
  {
   "cell_type": "code",
   "execution_count": 13,
   "id": "08620b76",
   "metadata": {},
   "outputs": [],
   "source": [
    "# pandasql helper function\n",
    "def pysqldf(q): return sqldf(q, globals())"
   ]
  },
  {
   "cell_type": "markdown",
   "id": "29f35fbb",
   "metadata": {},
   "source": [
    "## Baseline sur 1 an"
   ]
  },
  {
   "cell_type": "raw",
   "id": "727aaca1",
   "metadata": {},
   "source": [
    "Min and max order dates."
   ]
  },
  {
   "cell_type": "code",
   "execution_count": 14,
   "id": "5313e3b7",
   "metadata": {},
   "outputs": [
    {
     "name": "stdout",
     "output_type": "stream",
     "text": [
      "2016-10-03\n",
      "2018-08-29\n"
     ]
    }
   ],
   "source": [
    "print(orders['order_purchase_timestamp'].min())\n",
    "print(orders['order_purchase_timestamp'].max())"
   ]
  },
  {
   "cell_type": "raw",
   "id": "e49830bb",
   "metadata": {},
   "source": [
    "Selection of all orders for the 1st year."
   ]
  },
  {
   "cell_type": "code",
   "execution_count": 15,
   "id": "ab536a96",
   "metadata": {},
   "outputs": [
    {
     "name": "stdout",
     "output_type": "stream",
     "text": [
      "Baseline start date 2016-10-03\n",
      "Baseline end date 2017-10-03\n",
      "(32344, 45)\n",
      "Feature engineering done...\n",
      "GroupBy done...\n",
      "Clients list done...\n",
      "Drop column done...\n",
      "(25916, 12)\n",
      "Saved as  olist_orders_baseline.csv\n"
     ]
    }
   ],
   "source": [
    "# Define data filters\n",
    "start_date = orders['order_purchase_timestamp'].min()\n",
    "end_date = parser.parse(start_date) + timedelta(days=365)\n",
    "end_date = str(end_date)\n",
    "\n",
    "after_start_date = orders[\"order_purchase_timestamp\"] >= start_date\n",
    "before_end_date = orders[\"order_purchase_timestamp\"] <= end_date\n",
    "between_two_dates = after_start_date & before_end_date\n",
    "\n",
    "# Apply filters\n",
    "orders_baseline = orders.loc[between_two_dates]\n",
    "print('Baseline start date', orders_baseline['order_purchase_timestamp'].min())\n",
    "print('Baseline end date', orders_baseline['order_purchase_timestamp'].max())\n",
    "print(orders_baseline.shape)\n",
    "\n",
    "# Feature ingineering\n",
    "orders_baseline['last_order_since'] = orders_baseline.apply(\n",
    "    last_order_since, axis=1)\n",
    "orders_baseline['delivery_delay'] = orders_baseline.apply(\n",
    "    delivery_delay, axis=1)\n",
    "orders_baseline['review_length'] = orders_baseline.apply(\n",
    "    count_review_char, axis=1)\n",
    "orders_baseline['review_answer_delay'] = orders_baseline.apply(\n",
    "    review_answer_delay, axis=1)\n",
    "orders_baseline['desc_detail'] = orders_baseline.apply(desc_detail, axis=1)\n",
    "print('Feature engineering done...')\n",
    "\n",
    "# GroupBy\n",
    "query = \"\"\"\n",
    "SELECT \n",
    "    DISTINCT(customer_unique_id) AS customer_id,\n",
    "    COUNT(DISTINCT(order_id)) AS total_orders,\n",
    "    COUNT(DISTINCT(product_id)) AS total_products,\n",
    "    COUNT(DISTINCT(payment_type)) AS total_payment_types,\n",
    "    COUNT(payment_installments) AS total_payment_installments,\n",
    "    AVG(last_order_since) AS recency,\n",
    "    SUM(payment_value) AS total_value,\n",
    "    AVG(review_score) AS mean_review_score,\n",
    "    AVG(delivery_delay) AS mean_delivery_delay,\n",
    "    AVG(review_length) AS mean_review_message_length,\n",
    "    AVG(review_answer_delay) AS mean_review_answer_delay,\n",
    "    AVG(desc_detail) AS mean_product_desc_length,\n",
    "    AVG(product_photos_qty) AS mean_product_photos_qty\n",
    "FROM orders_baseline\n",
    "WHERE customer_unique_id IS NOT NULL \n",
    "GROUP BY customer_unique_id\n",
    "ORDER BY customer_unique_id\n",
    "\"\"\"\n",
    "orders_baseline = pysqldf(query)\n",
    "print('GroupBy done...')\n",
    "\n",
    "# Define client list\n",
    "liste_clients = orders_baseline.customer_id.unique()\n",
    "print('Clients list done...')\n",
    "\n",
    "# Drop column\n",
    "orders_baseline = orders_baseline.drop('customer_id', axis=1)\n",
    "print('Drop column done...')\n",
    "print(orders_baseline.shape)\n",
    "\n",
    "# Save\n",
    "orders_baseline.to_csv('olist_orders_baseline.csv',\n",
    "                       sep=',', decimal='.',\n",
    "                       encoding='utf8', index=False)\n",
    "print('Saved as ', 'olist_orders_baseline.csv')"
   ]
  },
  {
   "cell_type": "markdown",
   "id": "b9fd8880",
   "metadata": {},
   "source": [
    "## Baseline + x times 30 days"
   ]
  },
  {
   "cell_type": "raw",
   "id": "c4cb3c45",
   "metadata": {},
   "source": [
    "Addition of additional orders to the baseline in 30-day increments, up to the maximum date and only for customers present in the baseline."
   ]
  },
  {
   "cell_type": "code",
   "execution_count": 16,
   "id": "afffd690",
   "metadata": {},
   "outputs": [
    {
     "name": "stdout",
     "output_type": "stream",
     "text": [
      "start date 2016-10-03\n",
      "end date 2017-11-02 00:00:00\n",
      "(37521, 45)\n",
      "Feature engineering done...\n",
      "GroupBy done...\n",
      "Client filtering done...\n",
      "(25916, 13)\n",
      "Drop column done...\n",
      "(25916, 12)\n",
      "Saved as  olist_orders_30.csv\n",
      "_____________________________________________________________________________________________________________\n",
      "start date 2016-10-03\n",
      "end date 2017-12-02 00:00:00\n",
      "(46631, 45)\n",
      "Feature engineering done...\n",
      "GroupBy done...\n",
      "Client filtering done...\n",
      "(25916, 13)\n",
      "Drop column done...\n",
      "(25916, 12)\n",
      "Saved as  olist_orders_60.csv\n",
      "_____________________________________________________________________________________________________________\n",
      "start date 2016-10-03\n",
      "end date 2018-01-01 00:00:00\n",
      "(52556, 45)\n",
      "Feature engineering done...\n",
      "GroupBy done...\n",
      "Client filtering done...\n",
      "(25916, 13)\n",
      "Drop column done...\n",
      "(25916, 12)\n",
      "Saved as  olist_orders_90.csv\n",
      "_____________________________________________________________________________________________________________\n",
      "start date 2016-10-03\n",
      "end date 2018-01-31 00:00:00\n",
      "(60816, 45)\n",
      "Feature engineering done...\n",
      "GroupBy done...\n",
      "Client filtering done...\n",
      "(25916, 13)\n",
      "Drop column done...\n",
      "(25916, 12)\n",
      "Saved as  olist_orders_120.csv\n",
      "_____________________________________________________________________________________________________________\n",
      "start date 2016-10-03\n",
      "end date 2018-03-02 00:00:00\n",
      "(69245, 45)\n",
      "Feature engineering done...\n",
      "GroupBy done...\n",
      "Client filtering done...\n",
      "(25916, 13)\n",
      "Drop column done...\n",
      "(25916, 12)\n",
      "Saved as  olist_orders_150.csv\n",
      "_____________________________________________________________________________________________________________\n",
      "start date 2016-10-03\n",
      "end date 2018-04-01 00:00:00\n",
      "(77163, 45)\n",
      "Feature engineering done...\n",
      "GroupBy done...\n",
      "Client filtering done...\n",
      "(25916, 13)\n",
      "Drop column done...\n",
      "(25916, 12)\n",
      "Saved as  olist_orders_180.csv\n",
      "_____________________________________________________________________________________________________________\n",
      "start date 2016-10-03\n",
      "end date 2018-05-01 00:00:00\n",
      "(85285, 45)\n",
      "Feature engineering done...\n",
      "GroupBy done...\n",
      "Client filtering done...\n",
      "(25916, 13)\n",
      "Drop column done...\n",
      "(25916, 12)\n",
      "Saved as  olist_orders_210.csv\n",
      "_____________________________________________________________________________________________________________\n",
      "start date 2016-10-03\n",
      "end date 2018-05-31 00:00:00\n",
      "(93063, 45)\n",
      "Feature engineering done...\n",
      "GroupBy done...\n",
      "Client filtering done...\n",
      "(25916, 13)\n",
      "Drop column done...\n",
      "(25916, 12)\n",
      "Saved as  olist_orders_240.csv\n",
      "_____________________________________________________________________________________________________________\n",
      "start date 2016-10-03\n",
      "end date 2018-06-30 00:00:00\n",
      "(100349, 45)\n",
      "Feature engineering done...\n",
      "GroupBy done...\n",
      "Client filtering done...\n",
      "(25916, 13)\n",
      "Drop column done...\n",
      "(25916, 12)\n",
      "Saved as  olist_orders_270.csv\n",
      "_____________________________________________________________________________________________________________\n",
      "start date 2016-10-03\n",
      "end date 2018-07-30 00:00:00\n",
      "(107144, 45)\n",
      "Feature engineering done...\n",
      "GroupBy done...\n",
      "Client filtering done...\n",
      "(25916, 13)\n",
      "Drop column done...\n",
      "(25916, 12)\n",
      "Saved as  olist_orders_300.csv\n",
      "_____________________________________________________________________________________________________________\n",
      "start date 2016-10-03\n",
      "end date 2018-08-29 00:00:00\n",
      "(114851, 45)\n",
      "Feature engineering done...\n",
      "GroupBy done...\n",
      "Client filtering done...\n",
      "(25916, 13)\n",
      "Drop column done...\n",
      "(25916, 12)\n",
      "Saved as  olist_orders_330.csv\n",
      "_____________________________________________________________________________________________________________\n"
     ]
    }
   ],
   "source": [
    "for days in arange(30, 360, 30):\n",
    "    # Define data filters\n",
    "    end_date = parser.parse(end_date) + timedelta(days=30)\n",
    "    end_date = str(end_date)\n",
    "    print('start date', orders['order_purchase_timestamp'].min())\n",
    "    print('end date', end_date)\n",
    "    before_end_date = orders[\"order_purchase_timestamp\"] <= end_date\n",
    "    filters = after_start_date & before_end_date\n",
    "\n",
    "    # Apply filters\n",
    "    orders_ = orders.loc[filters]\n",
    "    print(orders_.shape)\n",
    "\n",
    "    # Feature ingineering\n",
    "    orders_['last_order_since'] = orders_.apply(last_order_since, axis=1)\n",
    "    orders_['delivery_delay'] = orders_.apply(delivery_delay, axis=1)\n",
    "    orders_['review_length'] = orders_.apply(count_review_char, axis=1)\n",
    "    orders_['review_answer_delay'] = orders_.apply(review_answer_delay, axis=1)\n",
    "    orders_['desc_detail'] = orders_.apply(desc_detail, axis=1)\n",
    "    print('Feature engineering done...')\n",
    "\n",
    "    # GroupBy\n",
    "    query = \"\"\"\n",
    "    SELECT \n",
    "        DISTINCT(customer_unique_id) AS customer_id,\n",
    "        COUNT(DISTINCT(order_id)) AS total_orders,\n",
    "        COUNT(DISTINCT(product_id)) AS total_products,\n",
    "        COUNT(DISTINCT(payment_type)) AS total_payment_types,\n",
    "        COUNT(payment_installments) AS total_payment_installments,\n",
    "        AVG(last_order_since) AS recency,\n",
    "        SUM(payment_value) AS total_value,\n",
    "        AVG(review_score) AS mean_review_score,\n",
    "        AVG(delivery_delay) AS mean_delivery_delay,\n",
    "        AVG(review_length) AS mean_review_message_length,\n",
    "        AVG(review_answer_delay) AS mean_review_answer_delay,\n",
    "        AVG(desc_detail) AS mean_product_desc_length,\n",
    "        AVG(product_photos_qty) AS mean_product_photos_qty\n",
    "    FROM orders_\n",
    "    WHERE customer_unique_id IS NOT NULL \n",
    "    GROUP BY customer_unique_id\n",
    "    ORDER BY customer_unique_id\n",
    "    \"\"\"\n",
    "    orders_ = pysqldf(query)\n",
    "    print('GroupBy done...')\n",
    "\n",
    "    # Apply filters\n",
    "    filters = orders_.customer_id.isin(liste_clients)\n",
    "    orders_ = orders_.loc[filters]\n",
    "    print('Client filtering done...')\n",
    "    print(orders_.shape)\n",
    "\n",
    "    # Drop column\n",
    "    orders_ = orders_.drop('customer_id', axis=1)\n",
    "    print('Drop column done...')\n",
    "    print(orders_.shape)\n",
    "\n",
    "    # Save\n",
    "    orders_.to_csv('olist_orders_' + str(days) + '.csv',\n",
    "                   sep=',', decimal='.',\n",
    "                   encoding='utf8', index=False)\n",
    "    print('Saved as ', 'olist_orders_' + str(days) + '.csv')\n",
    "    print(109*'_')"
   ]
  },
  {
   "cell_type": "markdown",
   "id": "928e3a2a",
   "metadata": {},
   "source": [
    "# Loading baseline"
   ]
  },
  {
   "cell_type": "code",
   "execution_count": 17,
   "id": "ff137084",
   "metadata": {
    "scrolled": true
   },
   "outputs": [
    {
     "name": "stdout",
     "output_type": "stream",
     "text": [
      "(25916, 12)\n"
     ]
    }
   ],
   "source": [
    "Baseline = pd.read_csv('olist_orders_baseline.csv', sep=',',\n",
    "                       decimal='.', encoding='utf8', low_memory=False)\n",
    "print(Baseline.shape)"
   ]
  },
  {
   "cell_type": "markdown",
   "id": "e142a715",
   "metadata": {},
   "source": [
    "# Transformer"
   ]
  },
  {
   "cell_type": "code",
   "execution_count": 18,
   "id": "d9007868",
   "metadata": {},
   "outputs": [],
   "source": [
    "norm = Normalizer()"
   ]
  },
  {
   "cell_type": "code",
   "execution_count": 19,
   "id": "d1967b0d",
   "metadata": {},
   "outputs": [],
   "source": [
    "Baseline_normalized = norm.fit_transform(Baseline)"
   ]
  },
  {
   "cell_type": "markdown",
   "id": "41eca98f",
   "metadata": {},
   "source": [
    "# Model"
   ]
  },
  {
   "cell_type": "code",
   "execution_count": 20,
   "id": "55030e5e",
   "metadata": {},
   "outputs": [],
   "source": [
    "model = KMeans(n_clusters=5, random_state=0)"
   ]
  },
  {
   "cell_type": "code",
   "execution_count": 21,
   "id": "5c3e05f7",
   "metadata": {},
   "outputs": [],
   "source": [
    "model.fit_predict(Baseline_normalized)\n",
    "labels_baseline = model.labels_"
   ]
  },
  {
   "cell_type": "markdown",
   "id": "c2ac3d40",
   "metadata": {},
   "source": [
    "# Temporal stability"
   ]
  },
  {
   "cell_type": "code",
   "execution_count": 22,
   "id": "62e279cb",
   "metadata": {},
   "outputs": [],
   "source": [
    "ari_tab = {}"
   ]
  },
  {
   "cell_type": "code",
   "execution_count": 23,
   "id": "0fa06d77",
   "metadata": {},
   "outputs": [],
   "source": [
    "for days in arange(30, 360, 30):\n",
    "    # Data load\n",
    "    data = pd.read_csv('olist_orders_' + str(days) + '.csv', sep=',', decimal='.',\n",
    "                       encoding='utf8', low_memory=False)\n",
    "    # Normalization\n",
    "    data_normalized = norm.fit_transform(data)\n",
    "    # Clustering\n",
    "    model.fit_predict(data_normalized)\n",
    "    labels = model.labels_\n",
    "    # ARI calculation\n",
    "    ari = metrics.adjusted_rand_score(labels_baseline, model.labels_)\n",
    "    ari_tab[days] = ari"
   ]
  },
  {
   "cell_type": "code",
   "execution_count": 24,
   "id": "9bed501d",
   "metadata": {
    "scrolled": true
   },
   "outputs": [
    {
     "data": {
      "image/png": "[encoded data removed]",
      "text/plain": [
       "<Figure size 1440x360 with 1 Axes>"
      ]
     },
     "metadata": {
      "needs_background": "light"
     },
     "output_type": "display_data"
    }
   ],
   "source": [
    "fig = plt.figure(figsize=(20, 5))\n",
    "\n",
    "ax = fig.add_subplot(1, 3, 1)\n",
    "ax.plot(list(ari_tab.keys()), list(ari_tab.values()))\n",
    "ax.set_xlabel('Temps', fontsize=12)\n",
    "ax.set_ylabel('ARI', fontsize=12)\n",
    "ax.set_title(\"Stabilité dans le temps\", fontsize=15)\n",
    "plt.gcf().savefig('time_stability', dpi=100)\n",
    "plt.show()"
   ]
  },
  {
   "cell_type": "code",
   "execution_count": null,
   "id": "68984631",
   "metadata": {},
   "outputs": [],
   "source": []
  }
 ],
 "metadata": {
  "kernelspec": {
   "display_name": "Python 3 (ipykernel)",
   "language": "python",
   "name": "python3"
  },
  "language_info": {
   "codemirror_mode": {
    "name": "ipython",
    "version": 3
   },
   "file_extension": ".py",
   "mimetype": "text/x-python",
   "name": "python",
   "nbconvert_exporter": "python",
   "pygments_lexer": "ipython3",
   "version": "3.9.7"
  },
  "toc": {
   "base_numbering": 1,
   "nav_menu": {
    "height": "52px",
    "width": "211px"
   },
   "number_sections": true,
   "sideBar": true,
   "skip_h1_title": false,
   "title_cell": "Table of Contents",
   "title_sidebar": "Contents",
   "toc_cell": false,
   "toc_position": {
    "height": "calc(100% - 180px)",
    "left": "10px",
    "top": "150px",
    "width": "281.6px"
   },
   "toc_section_display": true,
   "toc_window_display": true
  }
 },
 "nbformat": 4,
 "nbformat_minor": 5
}
